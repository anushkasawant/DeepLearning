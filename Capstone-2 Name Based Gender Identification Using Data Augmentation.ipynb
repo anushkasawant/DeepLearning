{
 "cells": [
  {
   "cell_type": "markdown",
   "id": "f5fb7f35",
   "metadata": {},
   "source": [
    "## Import Libraries"
   ]
  },
  {
   "cell_type": "code",
   "execution_count": 1,
   "id": "a7a78acd",
   "metadata": {},
   "outputs": [],
   "source": [
    "import nltk\n",
    "from nltk.corpus import stopwords\n",
    "from nltk.tokenize import word_tokenize\n",
    "from nltk.stem import PorterStemmer\n",
    "from nltk.stem import WordNetLemmatizer\n",
    "import re"
   ]
  },
  {
   "cell_type": "code",
   "execution_count": 2,
   "id": "bb69d246",
   "metadata": {},
   "outputs": [],
   "source": [
    "import numpy as np\n",
    "\n",
    "import pandas as pd\n",
    "\n",
    "import matplotlib.pyplot as plt\n",
    "\n",
    "import seaborn as sns\n",
    "\n",
    "import warnings\n",
    "warnings.filterwarnings('ignore')\n",
    "\n",
    "import random"
   ]
  },
  {
   "cell_type": "markdown",
   "id": "226aa2d2",
   "metadata": {},
   "source": [
    "## Load the Dataset"
   ]
  },
  {
   "cell_type": "code",
   "execution_count": 3,
   "id": "7136223a",
   "metadata": {
    "scrolled": true
   },
   "outputs": [],
   "source": [
    "dataset = pd.read_csv(\"name.csv\",encoding='latin1')"
   ]
  },
  {
   "cell_type": "code",
   "execution_count": 4,
   "id": "771d590b",
   "metadata": {},
   "outputs": [
    {
     "data": {
      "text/html": [
       "<div>\n",
       "<style scoped>\n",
       "    .dataframe tbody tr th:only-of-type {\n",
       "        vertical-align: middle;\n",
       "    }\n",
       "\n",
       "    .dataframe tbody tr th {\n",
       "        vertical-align: top;\n",
       "    }\n",
       "\n",
       "    .dataframe thead th {\n",
       "        text-align: right;\n",
       "    }\n",
       "</style>\n",
       "<table border=\"1\" class=\"dataframe\">\n",
       "  <thead>\n",
       "    <tr style=\"text-align: right;\">\n",
       "      <th></th>\n",
       "      <th>Name</th>\n",
       "      <th>Target</th>\n",
       "      <th>Unnamed: 2</th>\n",
       "      <th>Unnamed: 3</th>\n",
       "      <th>Unnamed: 4</th>\n",
       "      <th>Unnamed: 5</th>\n",
       "    </tr>\n",
       "  </thead>\n",
       "  <tbody>\n",
       "    <tr>\n",
       "      <th>0</th>\n",
       "      <td>Yash</td>\n",
       "      <td>1</td>\n",
       "      <td>NaN</td>\n",
       "      <td>NaN</td>\n",
       "      <td>NaN</td>\n",
       "      <td>NaN</td>\n",
       "    </tr>\n",
       "    <tr>\n",
       "      <th>1</th>\n",
       "      <td>Prit</td>\n",
       "      <td>1</td>\n",
       "      <td>NaN</td>\n",
       "      <td>NaN</td>\n",
       "      <td>NaN</td>\n",
       "      <td>NaN</td>\n",
       "    </tr>\n",
       "    <tr>\n",
       "      <th>2</th>\n",
       "      <td>Meet</td>\n",
       "      <td>1</td>\n",
       "      <td>NaN</td>\n",
       "      <td>NaN</td>\n",
       "      <td>NaN</td>\n",
       "      <td>NaN</td>\n",
       "    </tr>\n",
       "    <tr>\n",
       "      <th>3</th>\n",
       "      <td>Drashti</td>\n",
       "      <td>0</td>\n",
       "      <td>NaN</td>\n",
       "      <td>NaN</td>\n",
       "      <td>NaN</td>\n",
       "      <td>NaN</td>\n",
       "    </tr>\n",
       "    <tr>\n",
       "      <th>4</th>\n",
       "      <td>Saloni</td>\n",
       "      <td>0</td>\n",
       "      <td>NaN</td>\n",
       "      <td>NaN</td>\n",
       "      <td>NaN</td>\n",
       "      <td>NaN</td>\n",
       "    </tr>\n",
       "  </tbody>\n",
       "</table>\n",
       "</div>"
      ],
      "text/plain": [
       "      Name  Target  Unnamed: 2  Unnamed: 3  Unnamed: 4  Unnamed: 5\n",
       "0     Yash       1         NaN         NaN         NaN         NaN\n",
       "1     Prit       1         NaN         NaN         NaN         NaN\n",
       "2     Meet       1         NaN         NaN         NaN         NaN\n",
       "3  Drashti       0         NaN         NaN         NaN         NaN\n",
       "4   Saloni       0         NaN         NaN         NaN         NaN"
      ]
     },
     "execution_count": 4,
     "metadata": {},
     "output_type": "execute_result"
    }
   ],
   "source": [
    "dataset.head()"
   ]
  },
  {
   "cell_type": "markdown",
   "id": "c57ac73c",
   "metadata": {},
   "source": [
    "## Pre-processing data"
   ]
  },
  {
   "cell_type": "code",
   "execution_count": 5,
   "id": "31f28b6e",
   "metadata": {},
   "outputs": [],
   "source": [
    "# Lowercasing names\n",
    "dataset['Name'] = dataset['Name'].str.lower()"
   ]
  },
  {
   "cell_type": "code",
   "execution_count": 6,
   "id": "38fecc66",
   "metadata": {},
   "outputs": [],
   "source": [
    "# Removing punctuation\n",
    "dataset['Name'] = dataset['Name'].apply(lambda x: re.sub(r'[^\\w\\s]', '', x))"
   ]
  },
  {
   "cell_type": "code",
   "execution_count": 7,
   "id": "b10ccb46",
   "metadata": {},
   "outputs": [
    {
     "data": {
      "text/html": [
       "<div>\n",
       "<style scoped>\n",
       "    .dataframe tbody tr th:only-of-type {\n",
       "        vertical-align: middle;\n",
       "    }\n",
       "\n",
       "    .dataframe tbody tr th {\n",
       "        vertical-align: top;\n",
       "    }\n",
       "\n",
       "    .dataframe thead th {\n",
       "        text-align: right;\n",
       "    }\n",
       "</style>\n",
       "<table border=\"1\" class=\"dataframe\">\n",
       "  <thead>\n",
       "    <tr style=\"text-align: right;\">\n",
       "      <th></th>\n",
       "      <th>Name</th>\n",
       "      <th>Target</th>\n",
       "      <th>Unnamed: 2</th>\n",
       "      <th>Unnamed: 3</th>\n",
       "      <th>Unnamed: 4</th>\n",
       "      <th>Unnamed: 5</th>\n",
       "    </tr>\n",
       "  </thead>\n",
       "  <tbody>\n",
       "    <tr>\n",
       "      <th>0</th>\n",
       "      <td>yash</td>\n",
       "      <td>1</td>\n",
       "      <td>NaN</td>\n",
       "      <td>NaN</td>\n",
       "      <td>NaN</td>\n",
       "      <td>NaN</td>\n",
       "    </tr>\n",
       "    <tr>\n",
       "      <th>1</th>\n",
       "      <td>prit</td>\n",
       "      <td>1</td>\n",
       "      <td>NaN</td>\n",
       "      <td>NaN</td>\n",
       "      <td>NaN</td>\n",
       "      <td>NaN</td>\n",
       "    </tr>\n",
       "    <tr>\n",
       "      <th>2</th>\n",
       "      <td>meet</td>\n",
       "      <td>1</td>\n",
       "      <td>NaN</td>\n",
       "      <td>NaN</td>\n",
       "      <td>NaN</td>\n",
       "      <td>NaN</td>\n",
       "    </tr>\n",
       "    <tr>\n",
       "      <th>3</th>\n",
       "      <td>drashti</td>\n",
       "      <td>0</td>\n",
       "      <td>NaN</td>\n",
       "      <td>NaN</td>\n",
       "      <td>NaN</td>\n",
       "      <td>NaN</td>\n",
       "    </tr>\n",
       "    <tr>\n",
       "      <th>4</th>\n",
       "      <td>saloni</td>\n",
       "      <td>0</td>\n",
       "      <td>NaN</td>\n",
       "      <td>NaN</td>\n",
       "      <td>NaN</td>\n",
       "      <td>NaN</td>\n",
       "    </tr>\n",
       "  </tbody>\n",
       "</table>\n",
       "</div>"
      ],
      "text/plain": [
       "      Name  Target  Unnamed: 2  Unnamed: 3  Unnamed: 4  Unnamed: 5\n",
       "0     yash       1         NaN         NaN         NaN         NaN\n",
       "1     prit       1         NaN         NaN         NaN         NaN\n",
       "2     meet       1         NaN         NaN         NaN         NaN\n",
       "3  drashti       0         NaN         NaN         NaN         NaN\n",
       "4   saloni       0         NaN         NaN         NaN         NaN"
      ]
     },
     "execution_count": 7,
     "metadata": {},
     "output_type": "execute_result"
    }
   ],
   "source": [
    "dataset.head()"
   ]
  },
  {
   "cell_type": "markdown",
   "id": "b4a7dfcb",
   "metadata": {},
   "source": [
    "## Exploratory Data Analysis"
   ]
  },
  {
   "cell_type": "code",
   "execution_count": 8,
   "id": "4ad28b6c",
   "metadata": {
    "scrolled": true
   },
   "outputs": [
    {
     "name": "stdout",
     "output_type": "stream",
     "text": [
      "(1299, 6)\n"
     ]
    }
   ],
   "source": [
    "print(dataset.shape)"
   ]
  },
  {
   "cell_type": "code",
   "execution_count": 9,
   "id": "dabddc8a",
   "metadata": {},
   "outputs": [
    {
     "name": "stdout",
     "output_type": "stream",
     "text": [
      "Name             0\n",
      "Target           0\n",
      "Unnamed: 2    1299\n",
      "Unnamed: 3    1299\n",
      "Unnamed: 4    1299\n",
      "Unnamed: 5    1299\n",
      "dtype: int64\n"
     ]
    }
   ],
   "source": [
    "# Check for missing values\n",
    "print(dataset.isnull().sum())"
   ]
  },
  {
   "cell_type": "code",
   "execution_count": 10,
   "id": "dda00673",
   "metadata": {},
   "outputs": [],
   "source": [
    "dataset.drop(columns=['Unnamed: 2', 'Unnamed: 3', 'Unnamed: 4',\n",
    "       'Unnamed: 5'],inplace=True)\n"
   ]
  },
  {
   "cell_type": "code",
   "execution_count": 11,
   "id": "15c25aeb",
   "metadata": {},
   "outputs": [
    {
     "name": "stdout",
     "output_type": "stream",
     "text": [
      "Index(['Name', 'Target'], dtype='object')\n",
      "Name      object\n",
      "Target     int64\n",
      "dtype: object\n"
     ]
    }
   ],
   "source": [
    "print(dataset.columns)\n",
    "\n",
    "print(dataset.dtypes)"
   ]
  },
  {
   "cell_type": "code",
   "execution_count": 12,
   "id": "28a21127",
   "metadata": {},
   "outputs": [
    {
     "data": {
      "text/html": [
       "<div>\n",
       "<style scoped>\n",
       "    .dataframe tbody tr th:only-of-type {\n",
       "        vertical-align: middle;\n",
       "    }\n",
       "\n",
       "    .dataframe tbody tr th {\n",
       "        vertical-align: top;\n",
       "    }\n",
       "\n",
       "    .dataframe thead th {\n",
       "        text-align: right;\n",
       "    }\n",
       "</style>\n",
       "<table border=\"1\" class=\"dataframe\">\n",
       "  <thead>\n",
       "    <tr style=\"text-align: right;\">\n",
       "      <th></th>\n",
       "      <th>Name</th>\n",
       "      <th>Target</th>\n",
       "    </tr>\n",
       "  </thead>\n",
       "  <tbody>\n",
       "    <tr>\n",
       "      <th>0</th>\n",
       "      <td>yash</td>\n",
       "      <td>1</td>\n",
       "    </tr>\n",
       "    <tr>\n",
       "      <th>1</th>\n",
       "      <td>prit</td>\n",
       "      <td>1</td>\n",
       "    </tr>\n",
       "    <tr>\n",
       "      <th>2</th>\n",
       "      <td>meet</td>\n",
       "      <td>1</td>\n",
       "    </tr>\n",
       "    <tr>\n",
       "      <th>3</th>\n",
       "      <td>drashti</td>\n",
       "      <td>0</td>\n",
       "    </tr>\n",
       "    <tr>\n",
       "      <th>4</th>\n",
       "      <td>saloni</td>\n",
       "      <td>0</td>\n",
       "    </tr>\n",
       "  </tbody>\n",
       "</table>\n",
       "</div>"
      ],
      "text/plain": [
       "      Name  Target\n",
       "0     yash       1\n",
       "1     prit       1\n",
       "2     meet       1\n",
       "3  drashti       0\n",
       "4   saloni       0"
      ]
     },
     "execution_count": 12,
     "metadata": {},
     "output_type": "execute_result"
    }
   ],
   "source": [
    "dataset.head()"
   ]
  },
  {
   "cell_type": "code",
   "execution_count": null,
   "id": "5261e7ed",
   "metadata": {},
   "outputs": [],
   "source": []
  },
  {
   "cell_type": "markdown",
   "id": "e1908a35",
   "metadata": {},
   "source": [
    "## Data Augmentation"
   ]
  },
  {
   "cell_type": "code",
   "execution_count": 13,
   "id": "2394d284",
   "metadata": {},
   "outputs": [],
   "source": [
    "def transpose_letters(name):\n",
    "    name_list = list(name)\n",
    "    random.shuffle(name_list)\n",
    "    return ''.join(name_list)\n",
    "\n",
    "def change_case(name):\n",
    "    return name.lower() if random.random() < 0.5 else name.upper()\n"
   ]
  },
  {
   "cell_type": "code",
   "execution_count": 14,
   "id": "eec65cd9",
   "metadata": {},
   "outputs": [],
   "source": [
    "augmented_data = []\n",
    "\n",
    "for index, row in dataset.iterrows():\n",
    "    name, gender = row['Name'], row['Target']\n",
    "    for _ in range(5):  # Generate 5 augmented samples for each original name\n",
    "        augmented_name = random.choice([transpose_letters(name), change_case(name)])\n",
    "        augmented_data.append({'Name': augmented_name, 'Target': gender})\n"
   ]
  },
  {
   "cell_type": "code",
   "execution_count": 15,
   "id": "a8dc7618",
   "metadata": {},
   "outputs": [],
   "source": [
    "augmented_df = pd.DataFrame(augmented_data)"
   ]
  },
  {
   "cell_type": "code",
   "execution_count": 16,
   "id": "e4d08b2a",
   "metadata": {},
   "outputs": [],
   "source": [
    "df = pd.concat([dataset, augmented_df], ignore_index=True)\n"
   ]
  },
  {
   "cell_type": "code",
   "execution_count": 17,
   "id": "41b516f7",
   "metadata": {},
   "outputs": [],
   "source": [
    "df.to_csv('augmented_dataset.csv', index=False)\n"
   ]
  },
  {
   "cell_type": "code",
   "execution_count": 18,
   "id": "82ffe51b",
   "metadata": {},
   "outputs": [
    {
     "data": {
      "text/html": [
       "<div>\n",
       "<style scoped>\n",
       "    .dataframe tbody tr th:only-of-type {\n",
       "        vertical-align: middle;\n",
       "    }\n",
       "\n",
       "    .dataframe tbody tr th {\n",
       "        vertical-align: top;\n",
       "    }\n",
       "\n",
       "    .dataframe thead th {\n",
       "        text-align: right;\n",
       "    }\n",
       "</style>\n",
       "<table border=\"1\" class=\"dataframe\">\n",
       "  <thead>\n",
       "    <tr style=\"text-align: right;\">\n",
       "      <th></th>\n",
       "      <th>Name</th>\n",
       "      <th>Target</th>\n",
       "    </tr>\n",
       "  </thead>\n",
       "  <tbody>\n",
       "    <tr>\n",
       "      <th>0</th>\n",
       "      <td>yash</td>\n",
       "      <td>1</td>\n",
       "    </tr>\n",
       "    <tr>\n",
       "      <th>1</th>\n",
       "      <td>prit</td>\n",
       "      <td>1</td>\n",
       "    </tr>\n",
       "    <tr>\n",
       "      <th>2</th>\n",
       "      <td>meet</td>\n",
       "      <td>1</td>\n",
       "    </tr>\n",
       "    <tr>\n",
       "      <th>3</th>\n",
       "      <td>drashti</td>\n",
       "      <td>0</td>\n",
       "    </tr>\n",
       "    <tr>\n",
       "      <th>4</th>\n",
       "      <td>saloni</td>\n",
       "      <td>0</td>\n",
       "    </tr>\n",
       "  </tbody>\n",
       "</table>\n",
       "</div>"
      ],
      "text/plain": [
       "      Name  Target\n",
       "0     yash       1\n",
       "1     prit       1\n",
       "2     meet       1\n",
       "3  drashti       0\n",
       "4   saloni       0"
      ]
     },
     "execution_count": 18,
     "metadata": {},
     "output_type": "execute_result"
    }
   ],
   "source": [
    "df.head()"
   ]
  },
  {
   "cell_type": "code",
   "execution_count": 19,
   "id": "5fe66cc0",
   "metadata": {},
   "outputs": [],
   "source": [
    "df['Target'] = df['Target'].replace({0:\"F\",1:\"M\"})"
   ]
  },
  {
   "cell_type": "code",
   "execution_count": 20,
   "id": "ec6602c4",
   "metadata": {},
   "outputs": [
    {
     "name": "stdout",
     "output_type": "stream",
     "text": [
      "(7794, 2)\n"
     ]
    }
   ],
   "source": [
    "print(df.shape)"
   ]
  },
  {
   "cell_type": "code",
   "execution_count": 21,
   "id": "bfa64ca6",
   "metadata": {},
   "outputs": [
    {
     "name": "stdout",
     "output_type": "stream",
     "text": [
      "5229\n"
     ]
    }
   ],
   "source": [
    "print(len(df['Name'].unique()))"
   ]
  },
  {
   "cell_type": "code",
   "execution_count": 22,
   "id": "355f2ce9",
   "metadata": {},
   "outputs": [
    {
     "data": {
      "text/plain": [
       "Text(0.5, 1.0, 'No. of male and female names in the dataset')"
      ]
     },
     "execution_count": 22,
     "metadata": {},
     "output_type": "execute_result"
    },
    {
     "data": {
      "image/png": "[encoded data removed]",
      "text/plain": [
       "<Figure size 640x480 with 1 Axes>"
      ]
     },
     "metadata": {},
     "output_type": "display_data"
    }
   ],
   "source": [
    "sns.countplot(x='Target',data = df)\n",
    "plt.title('No. of male and female names in the dataset')\n"
   ]
  },
  {
   "cell_type": "code",
   "execution_count": 23,
   "id": "a5d9820d",
   "metadata": {},
   "outputs": [
    {
     "name": "stdout",
     "output_type": "stream",
     "text": [
      "{'A': 162, 'B': 64, 'C': 33, 'D': 96, 'E': 8, 'F': 17, 'G': 44, 'H': 75, 'I': 33, 'J': 66, 'K': 103, 'L': 18, 'M': 120, 'N': 114, 'O': 5, 'P': 96, 'Q': 0, 'R': 139, 'S': 261, 'T': 56, 'U': 20, 'V': 98, 'W': 0, 'X': 0, 'Y': 18, 'Z': 16}\n"
     ]
    }
   ],
   "source": [
    "alphabets= ['A','B','C','D','E','F','G','H','I','J','K','L','M','N','O','P',\n",
    "\n",
    "            'Q','R','S','T','U','V','W','X','Y','Z']\n",
    "\n",
    "startletter_count = {}\n",
    "\n",
    "for i in alphabets:\n",
    "\n",
    "    startletter_count[i] = len(df[df['Name'].str.startswith(i)])\n",
    "\n",
    "print(startletter_count)"
   ]
  },
  {
   "cell_type": "code",
   "execution_count": 24,
   "id": "1286fddc",
   "metadata": {},
   "outputs": [
    {
     "data": {
      "text/plain": [
       "Text(0.5, 1.0, 'Number of names starting with each letter')"
      ]
     },
     "execution_count": 24,
     "metadata": {},
     "output_type": "execute_result"
    },
    {
     "data": {
      "image/png": "[encoded data removed]",
      "text/plain": [
       "<Figure size 1600x800 with 1 Axes>"
      ]
     },
     "metadata": {},
     "output_type": "display_data"
    }
   ],
   "source": [
    "plt.figure(figsize = (16,8))\n",
    "\n",
    "plt.bar(startletter_count.keys(),startletter_count.values())\n",
    "\n",
    "plt.xlabel('Starting alphabet')\n",
    "\n",
    "plt.ylabel('No. of names')\n",
    "\n",
    "plt.title('Number of names starting with each letter')"
   ]
  },
  {
   "cell_type": "code",
   "execution_count": 25,
   "id": "ac36d315",
   "metadata": {},
   "outputs": [
    {
     "name": "stdout",
     "output_type": "stream",
     "text": [
      "The 5 most name starting letters are :  ('S', 261) ('A', 162) ('R', 139) ('M', 120) ('N', 114)\n"
     ]
    }
   ],
   "source": [
    "print('The 5 most name starting letters are : ',\n",
    "\n",
    "       *sorted(startletter_count.items(), key=lambda item: item[1])[-5:][::-1])"
   ]
  },
  {
   "cell_type": "code",
   "execution_count": 26,
   "id": "26592e5c",
   "metadata": {},
   "outputs": [
    {
     "name": "stdout",
     "output_type": "stream",
     "text": [
      "{'a': 1428, 'b': 69, 'c': 9, 'd': 128, 'e': 174, 'f': 19, 'g': 63, 'h': 471, 'i': 901, 'j': 117, 'k': 187, 'l': 340, 'm': 197, 'n': 475, 'o': 76, 'p': 101, 'q': 4, 'r': 367, 's': 236, 't': 280, 'u': 183, 'v': 127, 'x': 8, 'y': 144, 'z': 8}\n"
     ]
    }
   ],
   "source": [
    "small_alphabets = ['a','b','c','d','e','f','g','h',\n",
    "\n",
    "                   'i','j','k','l','m','n','o','p','q','r','s','t','u','v','x','y','z']\n",
    "\n",
    "endletter_count ={}\n",
    "\n",
    "for i in small_alphabets:\n",
    "\n",
    "    endletter_count[i]=len(df[df['Name'].str.endswith(i)])\n",
    "\n",
    "print(endletter_count)"
   ]
  },
  {
   "cell_type": "code",
   "execution_count": 27,
   "id": "094db2fa",
   "metadata": {},
   "outputs": [
    {
     "data": {
      "text/plain": [
       "Text(0.5, 1.0, 'Number of names ending with each letter')"
      ]
     },
     "execution_count": 27,
     "metadata": {},
     "output_type": "execute_result"
    },
    {
     "data": {
      "image/png": "[encoded data removed]",
      "text/plain": [
       "<Figure size 1600x800 with 1 Axes>"
      ]
     },
     "metadata": {},
     "output_type": "display_data"
    }
   ],
   "source": [
    "plt.figure(figsize = (16,8))\n",
    "\n",
    "plt.bar(endletter_count.keys(),endletter_count.values())\n",
    "\n",
    "plt.xlabel('Ending alphabet')\n",
    "\n",
    "plt.ylabel('No. of names')\n",
    "\n",
    "plt.title('Number of names ending with each letter')"
   ]
  },
  {
   "cell_type": "code",
   "execution_count": 28,
   "id": "11c849e4",
   "metadata": {},
   "outputs": [
    {
     "name": "stdout",
     "output_type": "stream",
     "text": [
      "The 5 most name endind letters are :  ('a', 1428) ('i', 901) ('n', 475) ('h', 471) ('r', 367)\n"
     ]
    }
   ],
   "source": [
    "print('The 5 most name endind letters are : ', *sorted(endletter_count.items(),\n",
    "\n",
    "        key=lambda item: item[1])[-5:][::-1])"
   ]
  },
  {
   "cell_type": "markdown",
   "id": "f277a0af",
   "metadata": {},
   "source": [
    "## Building the Models"
   ]
  },
  {
   "cell_type": "code",
   "execution_count": 29,
   "id": "94e1f5e8",
   "metadata": {},
   "outputs": [],
   "source": [
    "X =list( df['Name'])\n",
    "\n",
    "Y = list(df['Target'])"
   ]
  },
  {
   "cell_type": "code",
   "execution_count": 30,
   "id": "b49b108e",
   "metadata": {},
   "outputs": [],
   "source": [
    "from sklearn.preprocessing import LabelEncoder\n",
    "\n",
    "encoder= LabelEncoder()\n",
    "\n",
    "Y = encoder.fit_transform(Y)"
   ]
  },
  {
   "cell_type": "code",
   "execution_count": 31,
   "id": "1b75bff2",
   "metadata": {},
   "outputs": [],
   "source": [
    "from sklearn.feature_extraction.text import TfidfVectorizer\n",
    "\n",
    "from sklearn.feature_extraction.text import CountVectorizer \n",
    "\n",
    "cv=CountVectorizer(analyzer='char')\n",
    "\n",
    "X=cv.fit_transform(X).toarray()"
   ]
  },
  {
   "cell_type": "code",
   "execution_count": 32,
   "id": "84a24602",
   "metadata": {},
   "outputs": [],
   "source": [
    "from sklearn.model_selection import train_test_split\n",
    "\n",
    "x_train, x_test, y_train, y_test = train_test_split(X, Y, test_size=0.33, random_state=42)"
   ]
  },
  {
   "cell_type": "markdown",
   "id": "587e3c2a",
   "metadata": {},
   "source": [
    "## Logistic Regression"
   ]
  },
  {
   "cell_type": "code",
   "execution_count": 33,
   "id": "85d1fc1a",
   "metadata": {},
   "outputs": [],
   "source": [
    "from sklearn.linear_model import LogisticRegression\n",
    "\n",
    "LR_model= LogisticRegression()\n",
    "\n",
    "LR_model.fit(x_train,y_train)\n",
    "\n",
    "LR_y_pred = LR_model.predict(x_test)"
   ]
  },
  {
   "cell_type": "markdown",
   "id": "39492796",
   "metadata": {},
   "source": [
    "## Naive Bayes"
   ]
  },
  {
   "cell_type": "code",
   "execution_count": 34,
   "id": "a129bc38",
   "metadata": {},
   "outputs": [],
   "source": [
    "from sklearn.naive_bayes import MultinomialNB\n",
    "\n",
    "NB_model= MultinomialNB()\n",
    "\n",
    "NB_model.fit(x_train,y_train)\n",
    "\n",
    "NB_y_pred = NB_model.predict(x_test)"
   ]
  },
  {
   "cell_type": "markdown",
   "id": "b156351c",
   "metadata": {},
   "source": [
    "## XGBoost"
   ]
  },
  {
   "cell_type": "code",
   "execution_count": 35,
   "id": "66919388",
   "metadata": {},
   "outputs": [],
   "source": [
    "import xgboost as xgb\n",
    "from xgboost import XGBClassifier\n",
    "\n",
    "XGB_model = XGBClassifier(use_label_encoder= False)\n",
    "\n",
    "XGB_model.fit(x_train,y_train)\n",
    "\n",
    "XGB_y_pred = XGB_model.predict(x_test)"
   ]
  },
  {
   "cell_type": "markdown",
   "id": "d86f2d5a",
   "metadata": {},
   "source": [
    "## Comparison of Performance"
   ]
  },
  {
   "cell_type": "code",
   "execution_count": 36,
   "id": "5d5a5aa3",
   "metadata": {},
   "outputs": [],
   "source": [
    "# function for confusion matrix\n",
    "\n",
    "from sklearn.metrics import confusion_matrix\n",
    "\n",
    "def cmatrix(model):\n",
    "\n",
    "    y_pred = model.predict(x_test)\n",
    "\n",
    "    cmatrix = confusion_matrix(y_test, y_pred)\n",
    "\n",
    "    print(cmatrix)\n",
    "\n",
    "    sns.heatmap(cmatrix,fmt='d',cmap='BuPu',annot=True)\n",
    "\n",
    "    plt.xlabel('Predicted Values')\n",
    "\n",
    "    plt.ylabel('Actual Values')\n",
    "\n",
    "    plt.title('Confusion Matrix')"
   ]
  },
  {
   "cell_type": "markdown",
   "id": "c111c21c",
   "metadata": {},
   "source": [
    "For logistic regression"
   ]
  },
  {
   "cell_type": "code",
   "execution_count": 37,
   "id": "3c482f63",
   "metadata": {},
   "outputs": [
    {
     "name": "stdout",
     "output_type": "stream",
     "text": [
      "0.6902448503692188\n",
      "              precision    recall  f1-score   support\n",
      "\n",
      "           0       0.68      0.74      0.71      1305\n",
      "           1       0.70      0.64      0.67      1268\n",
      "\n",
      "    accuracy                           0.69      2573\n",
      "   macro avg       0.69      0.69      0.69      2573\n",
      "weighted avg       0.69      0.69      0.69      2573\n",
      "\n",
      "[[964 341]\n",
      " [456 812]]\n",
      "None\n"
     ]
    },
    {
     "data": {
      "image/png": "[encoded data removed]",
      "text/plain": [
       "<Figure size 640x480 with 2 Axes>"
      ]
     },
     "metadata": {},
     "output_type": "display_data"
    }
   ],
   "source": [
    "import sklearn.metrics as metrics\n",
    "\n",
    "\n",
    "\n",
    "print(metrics.accuracy_score(LR_y_pred,y_test))\n",
    "\n",
    "print(metrics.classification_report(y_test, LR_y_pred))\n",
    "\n",
    "print(cmatrix(LR_model))"
   ]
  },
  {
   "cell_type": "markdown",
   "id": "a48e1290",
   "metadata": {},
   "source": [
    "For naive bayes"
   ]
  },
  {
   "cell_type": "code",
   "execution_count": 38,
   "id": "67928546",
   "metadata": {},
   "outputs": [
    {
     "name": "stdout",
     "output_type": "stream",
     "text": [
      "0.5930820054411193\n",
      "              precision    recall  f1-score   support\n",
      "\n",
      "           0       0.58      0.70      0.64      1305\n",
      "           1       0.61      0.48      0.54      1268\n",
      "\n",
      "    accuracy                           0.59      2573\n",
      "   macro avg       0.60      0.59      0.59      2573\n",
      "weighted avg       0.60      0.59      0.59      2573\n",
      "\n",
      "[[912 393]\n",
      " [654 614]]\n",
      "None\n"
     ]
    },
    {
     "data": {
      "image/png": "[encoded data removed]",
      "text/plain": [
       "<Figure size 640x480 with 2 Axes>"
      ]
     },
     "metadata": {},
     "output_type": "display_data"
    }
   ],
   "source": [
    "\n",
    "\n",
    "print(metrics.accuracy_score(NB_y_pred,y_test))\n",
    "\n",
    "print(metrics.classification_report(y_test, NB_y_pred))\n",
    "\n",
    "print(cmatrix(NB_model))"
   ]
  },
  {
   "cell_type": "markdown",
   "id": "f48ca130",
   "metadata": {},
   "source": [
    "For XGBoost"
   ]
  },
  {
   "cell_type": "code",
   "execution_count": 39,
   "id": "498c33b1",
   "metadata": {},
   "outputs": [
    {
     "name": "stdout",
     "output_type": "stream",
     "text": [
      "0.9385930820054411\n",
      "              precision    recall  f1-score   support\n",
      "\n",
      "           0       0.93      0.96      0.94      1305\n",
      "           1       0.95      0.92      0.94      1268\n",
      "\n",
      "    accuracy                           0.94      2573\n",
      "   macro avg       0.94      0.94      0.94      2573\n",
      "weighted avg       0.94      0.94      0.94      2573\n",
      "\n",
      "[[1248   57]\n",
      " [ 101 1167]]\n",
      "None\n"
     ]
    },
    {
     "data": {
      "image/png": "[encoded data removed]",
      "text/plain": [
       "<Figure size 640x480 with 2 Axes>"
      ]
     },
     "metadata": {},
     "output_type": "display_data"
    }
   ],
   "source": [
    "\n",
    "print(metrics.accuracy_score(XGB_y_pred,y_test))\n",
    "\n",
    "print(metrics.classification_report(y_test, XGB_y_pred))\n",
    "\n",
    "print(cmatrix(XGB_model))"
   ]
  },
  {
   "cell_type": "markdown",
   "id": "14c147c6",
   "metadata": {},
   "source": [
    "## LSTM\n"
   ]
  },
  {
   "cell_type": "code",
   "execution_count": 40,
   "id": "4fc3b52b",
   "metadata": {},
   "outputs": [],
   "source": [
    "from tensorflow.keras import models\n",
    "from tensorflow.keras.models import Model\n",
    "from tensorflow.keras.models import load_model\n",
    "from tensorflow.keras.layers import Embedding\n",
    "from tensorflow.keras.layers import Dense, Dropout, Flatten, Input, LeakyReLU\n",
    "from tensorflow.keras.layers import BatchNormalization, Activation, Conv2D \n",
    "from tensorflow.keras.models import Sequential\n",
    "from tensorflow.keras.layers import Dense, Flatten, MaxPooling2D, Dense, Dropout\n",
    "from tensorflow.keras.layers import LSTM\n",
    "from tensorflow.keras.preprocessing.text import Tokenizer"
   ]
  },
  {
   "cell_type": "code",
   "execution_count": 41,
   "id": "98b0ea2c",
   "metadata": {},
   "outputs": [
    {
     "name": "stdout",
     "output_type": "stream",
     "text": [
      "Model: \"sequential\"\n",
      "_________________________________________________________________\n",
      " Layer (type)                Output Shape              Param #   \n",
      "=================================================================\n",
      " embedding (Embedding)       (None, 28, 40)            400000    \n",
      "                                                                 \n",
      " dropout (Dropout)           (None, 28, 40)            0         \n",
      "                                                                 \n",
      " lstm (LSTM)                 (None, 100)               56400     \n",
      "                                                                 \n",
      " dropout_1 (Dropout)         (None, 100)               0         \n",
      "                                                                 \n",
      " dense (Dense)               (None, 64)                6464      \n",
      "                                                                 \n",
      " dropout_2 (Dropout)         (None, 64)                0         \n",
      "                                                                 \n",
      " dense_1 (Dense)             (None, 1)                 65        \n",
      "                                                                 \n",
      "=================================================================\n",
      "Total params: 462929 (1.77 MB)\n",
      "Trainable params: 462929 (1.77 MB)\n",
      "Non-trainable params: 0 (0.00 Byte)\n",
      "_________________________________________________________________\n",
      "None\n"
     ]
    }
   ],
   "source": [
    "max_words = 1000\n",
    "\n",
    "max_len = 26\n",
    "vocab_size = 10000\n",
    "embedding_dim = 40\n",
    "input_sequence_length = 28\n",
    "\n",
    "# Create an LSTM model\n",
    "LSTM_model = Sequential()\n",
    "\n",
    "# Add an Embedding layer\n",
    "LSTM_model.add(Embedding(input_dim=vocab_size, output_dim=embedding_dim, input_length=input_sequence_length))\n",
    "LSTM_model.add(Dropout(0.3))\n",
    "\n",
    "LSTM_model.add(LSTM(100))\n",
    "\n",
    "LSTM_model.add(Dropout(0.3))\n",
    "\n",
    "LSTM_model.add(Dense(64,activation='relu'))\n",
    "\n",
    "LSTM_model.add(Dropout(0.3))\n",
    "\n",
    "LSTM_model.add(Dense(1,activation='sigmoid'))\n",
    "\n",
    "LSTM_model.compile(loss='binary_crossentropy',optimizer='adam',metrics=['accuracy'])\n",
    "\n",
    "print(LSTM_model.summary())"
   ]
  },
  {
   "cell_type": "code",
   "execution_count": 42,
   "id": "48aafada",
   "metadata": {},
   "outputs": [
    {
     "name": "stdout",
     "output_type": "stream",
     "text": [
      "Epoch 1/100\n",
      "131/131 [==============================] - 12s 48ms/step - loss: 0.6919 - accuracy: 0.5194\n",
      "Epoch 2/100\n",
      "131/131 [==============================] - 6s 47ms/step - loss: 0.6909 - accuracy: 0.5325\n",
      "Epoch 3/100\n",
      "131/131 [==============================] - 6s 48ms/step - loss: 0.6890 - accuracy: 0.5328\n",
      "Epoch 4/100\n",
      "131/131 [==============================] - 6s 48ms/step - loss: 0.6873 - accuracy: 0.5371\n",
      "Epoch 5/100\n",
      "131/131 [==============================] - 6s 48ms/step - loss: 0.6844 - accuracy: 0.5558\n",
      "Epoch 6/100\n",
      "131/131 [==============================] - 7s 50ms/step - loss: 0.6855 - accuracy: 0.5495\n",
      "Epoch 7/100\n",
      "131/131 [==============================] - 6s 48ms/step - loss: 0.6831 - accuracy: 0.5554\n",
      "Epoch 8/100\n",
      "131/131 [==============================] - 6s 49ms/step - loss: 0.6823 - accuracy: 0.5600\n",
      "Epoch 9/100\n",
      "131/131 [==============================] - 6s 47ms/step - loss: 0.6804 - accuracy: 0.5610\n",
      "Epoch 10/100\n",
      "131/131 [==============================] - 6s 47ms/step - loss: 0.6752 - accuracy: 0.5545\n",
      "Epoch 11/100\n",
      "131/131 [==============================] - 7s 50ms/step - loss: 0.6694 - accuracy: 0.5767\n",
      "Epoch 12/100\n",
      "131/131 [==============================] - 6s 49ms/step - loss: 0.6583 - accuracy: 0.5972\n",
      "Epoch 13/100\n",
      "131/131 [==============================] - 7s 50ms/step - loss: 0.6499 - accuracy: 0.6135\n",
      "Epoch 14/100\n",
      "131/131 [==============================] - 6s 48ms/step - loss: 0.6380 - accuracy: 0.6202\n",
      "Epoch 15/100\n",
      "131/131 [==============================] - 6s 47ms/step - loss: 0.6393 - accuracy: 0.6303\n",
      "Epoch 16/100\n",
      "131/131 [==============================] - 6s 48ms/step - loss: 0.6369 - accuracy: 0.6305\n",
      "Epoch 17/100\n",
      "131/131 [==============================] - 6s 47ms/step - loss: 0.6268 - accuracy: 0.6344\n",
      "Epoch 18/100\n",
      "131/131 [==============================] - 6s 49ms/step - loss: 0.6111 - accuracy: 0.6564\n",
      "Epoch 19/100\n",
      "131/131 [==============================] - 6s 48ms/step - loss: 0.6043 - accuracy: 0.6658\n",
      "Epoch 20/100\n",
      "131/131 [==============================] - 6s 48ms/step - loss: 0.5994 - accuracy: 0.6711\n",
      "Epoch 21/100\n",
      "131/131 [==============================] - 6s 48ms/step - loss: 0.5919 - accuracy: 0.6711\n",
      "Epoch 22/100\n",
      "131/131 [==============================] - 6s 48ms/step - loss: 0.5824 - accuracy: 0.6830\n",
      "Epoch 23/100\n",
      "131/131 [==============================] - 6s 48ms/step - loss: 0.5653 - accuracy: 0.6941\n",
      "Epoch 24/100\n",
      "131/131 [==============================] - 6s 49ms/step - loss: 0.5561 - accuracy: 0.7041\n",
      "Epoch 25/100\n",
      "131/131 [==============================] - 6s 49ms/step - loss: 0.5437 - accuracy: 0.7089\n",
      "Epoch 26/100\n",
      "131/131 [==============================] - 6s 48ms/step - loss: 0.5241 - accuracy: 0.7209\n",
      "Epoch 27/100\n",
      "131/131 [==============================] - 6s 48ms/step - loss: 0.5163 - accuracy: 0.7265\n",
      "Epoch 28/100\n",
      "131/131 [==============================] - 6s 42ms/step - loss: 0.5055 - accuracy: 0.7366\n",
      "Epoch 29/100\n",
      "131/131 [==============================] - 6s 48ms/step - loss: 0.4841 - accuracy: 0.7535\n",
      "Epoch 30/100\n",
      "131/131 [==============================] - 6s 48ms/step - loss: 0.4678 - accuracy: 0.7587\n",
      "Epoch 31/100\n",
      "131/131 [==============================] - 6s 48ms/step - loss: 0.4361 - accuracy: 0.7801\n",
      "Epoch 32/100\n",
      "131/131 [==============================] - 6s 48ms/step - loss: 0.4368 - accuracy: 0.7817\n",
      "Epoch 33/100\n",
      "131/131 [==============================] - 6s 48ms/step - loss: 0.3969 - accuracy: 0.8027\n",
      "Epoch 34/100\n",
      "131/131 [==============================] - 6s 49ms/step - loss: 0.3872 - accuracy: 0.8125\n",
      "Epoch 35/100\n",
      "131/131 [==============================] - 6s 49ms/step - loss: 0.3487 - accuracy: 0.8330\n",
      "Epoch 36/100\n",
      "131/131 [==============================] - 6s 48ms/step - loss: 0.3439 - accuracy: 0.8355\n",
      "Epoch 37/100\n",
      "131/131 [==============================] - 6s 48ms/step - loss: 0.3336 - accuracy: 0.8380\n",
      "Epoch 38/100\n",
      "131/131 [==============================] - 6s 47ms/step - loss: 0.3037 - accuracy: 0.8541\n",
      "Epoch 39/100\n",
      "131/131 [==============================] - 6s 46ms/step - loss: 0.2928 - accuracy: 0.8629\n",
      "Epoch 40/100\n",
      "131/131 [==============================] - 6s 46ms/step - loss: 0.2938 - accuracy: 0.8596\n",
      "Epoch 41/100\n",
      "131/131 [==============================] - 6s 47ms/step - loss: 0.2612 - accuracy: 0.8740\n",
      "Epoch 42/100\n",
      "131/131 [==============================] - 6s 48ms/step - loss: 0.2270 - accuracy: 0.8964\n",
      "Epoch 43/100\n",
      "131/131 [==============================] - 6s 47ms/step - loss: 0.2156 - accuracy: 0.8973\n",
      "Epoch 44/100\n",
      "131/131 [==============================] - 6s 47ms/step - loss: 0.2197 - accuracy: 0.8994\n",
      "Epoch 45/100\n",
      "131/131 [==============================] - 6s 47ms/step - loss: 0.2144 - accuracy: 0.9016\n",
      "Epoch 46/100\n",
      "131/131 [==============================] - 6s 50ms/step - loss: 0.1898 - accuracy: 0.9100\n",
      "Epoch 47/100\n",
      "131/131 [==============================] - 6s 48ms/step - loss: 0.1960 - accuracy: 0.9111\n",
      "Epoch 48/100\n",
      "131/131 [==============================] - 6s 48ms/step - loss: 0.1880 - accuracy: 0.9106\n",
      "Epoch 49/100\n",
      "131/131 [==============================] - 6s 48ms/step - loss: 0.1534 - accuracy: 0.9305\n",
      "Epoch 50/100\n",
      "131/131 [==============================] - 6s 48ms/step - loss: 0.1570 - accuracy: 0.9297\n",
      "Epoch 51/100\n",
      "131/131 [==============================] - 6s 48ms/step - loss: 0.1575 - accuracy: 0.9312\n",
      "Epoch 52/100\n",
      "131/131 [==============================] - 6s 48ms/step - loss: 0.1681 - accuracy: 0.9268\n",
      "Epoch 53/100\n",
      "131/131 [==============================] - 6s 48ms/step - loss: 0.1962 - accuracy: 0.9150\n",
      "Epoch 54/100\n",
      "131/131 [==============================] - 6s 48ms/step - loss: 0.1866 - accuracy: 0.9270\n",
      "Epoch 55/100\n",
      "131/131 [==============================] - 6s 48ms/step - loss: 0.1194 - accuracy: 0.9431\n",
      "Epoch 56/100\n",
      "131/131 [==============================] - 6s 48ms/step - loss: 0.1576 - accuracy: 0.9351\n",
      "Epoch 57/100\n",
      "131/131 [==============================] - 6s 48ms/step - loss: 0.1194 - accuracy: 0.9506\n",
      "Epoch 58/100\n",
      "131/131 [==============================] - 6s 47ms/step - loss: 0.1146 - accuracy: 0.9548\n",
      "Epoch 59/100\n",
      "131/131 [==============================] - 6s 47ms/step - loss: 0.0975 - accuracy: 0.9602\n",
      "Epoch 60/100\n",
      "131/131 [==============================] - 6s 47ms/step - loss: 0.1107 - accuracy: 0.9523\n",
      "Epoch 61/100\n",
      "131/131 [==============================] - 6s 48ms/step - loss: 0.1222 - accuracy: 0.9496\n",
      "Epoch 62/100\n",
      "131/131 [==============================] - 6s 48ms/step - loss: 0.1099 - accuracy: 0.9504\n",
      "Epoch 63/100\n",
      "131/131 [==============================] - 6s 46ms/step - loss: 0.0928 - accuracy: 0.9582\n",
      "Epoch 64/100\n",
      "131/131 [==============================] - 6s 48ms/step - loss: 0.0918 - accuracy: 0.9628\n",
      "Epoch 65/100\n",
      "131/131 [==============================] - 6s 48ms/step - loss: 0.0940 - accuracy: 0.9623\n",
      "Epoch 66/100\n",
      "131/131 [==============================] - 6s 47ms/step - loss: 0.1063 - accuracy: 0.9590\n",
      "Epoch 67/100\n",
      "131/131 [==============================] - 6s 47ms/step - loss: 0.0917 - accuracy: 0.9604\n",
      "Epoch 68/100\n",
      "131/131 [==============================] - 6s 48ms/step - loss: 0.0740 - accuracy: 0.9674\n",
      "Epoch 69/100\n",
      "131/131 [==============================] - 6s 48ms/step - loss: 0.0850 - accuracy: 0.9648\n",
      "Epoch 70/100\n",
      "131/131 [==============================] - 6s 49ms/step - loss: 0.0696 - accuracy: 0.9701\n",
      "Epoch 71/100\n",
      "131/131 [==============================] - 6s 48ms/step - loss: 0.1292 - accuracy: 0.9498\n",
      "Epoch 72/100\n",
      "131/131 [==============================] - 6s 48ms/step - loss: 0.1056 - accuracy: 0.9600\n",
      "Epoch 73/100\n",
      "131/131 [==============================] - 6s 48ms/step - loss: 0.0843 - accuracy: 0.9628\n",
      "Epoch 74/100\n",
      "131/131 [==============================] - 6s 48ms/step - loss: 0.0872 - accuracy: 0.9623\n",
      "Epoch 75/100\n",
      "131/131 [==============================] - 6s 48ms/step - loss: 0.0622 - accuracy: 0.9713\n",
      "Epoch 76/100\n",
      "131/131 [==============================] - 6s 48ms/step - loss: 0.1049 - accuracy: 0.9592\n",
      "Epoch 77/100\n",
      "131/131 [==============================] - 6s 48ms/step - loss: 0.0829 - accuracy: 0.9680\n",
      "Epoch 78/100\n",
      "131/131 [==============================] - 6s 49ms/step - loss: 0.0833 - accuracy: 0.9628\n",
      "Epoch 79/100\n",
      "131/131 [==============================] - 6s 47ms/step - loss: 0.1282 - accuracy: 0.9525\n",
      "Epoch 80/100\n",
      "131/131 [==============================] - 6s 48ms/step - loss: 0.0751 - accuracy: 0.9703\n",
      "Epoch 81/100\n",
      "131/131 [==============================] - 6s 48ms/step - loss: 0.0588 - accuracy: 0.9751\n",
      "Epoch 82/100\n",
      "131/131 [==============================] - 6s 48ms/step - loss: 0.0636 - accuracy: 0.9732\n",
      "Epoch 83/100\n",
      "131/131 [==============================] - 6s 47ms/step - loss: 0.1112 - accuracy: 0.9571\n",
      "Epoch 84/100\n",
      "131/131 [==============================] - 6s 49ms/step - loss: 0.0638 - accuracy: 0.9736\n",
      "Epoch 85/100\n",
      "131/131 [==============================] - 6s 49ms/step - loss: 0.0552 - accuracy: 0.9749\n",
      "Epoch 86/100\n",
      "131/131 [==============================] - 6s 46ms/step - loss: 0.0507 - accuracy: 0.9761\n",
      "Epoch 87/100\n",
      "131/131 [==============================] - 6s 48ms/step - loss: 0.0446 - accuracy: 0.9782\n",
      "Epoch 88/100\n",
      "131/131 [==============================] - 7s 50ms/step - loss: 0.0661 - accuracy: 0.9699\n",
      "Epoch 89/100\n",
      "131/131 [==============================] - 7s 51ms/step - loss: 0.0493 - accuracy: 0.9789\n",
      "Epoch 90/100\n",
      "131/131 [==============================] - 6s 49ms/step - loss: 0.0454 - accuracy: 0.9762\n",
      "Epoch 91/100\n",
      "131/131 [==============================] - 6s 49ms/step - loss: 0.0486 - accuracy: 0.9782\n",
      "Epoch 92/100\n",
      "131/131 [==============================] - 6s 50ms/step - loss: 0.0570 - accuracy: 0.9747\n",
      "Epoch 93/100\n",
      "131/131 [==============================] - 7s 52ms/step - loss: 0.1029 - accuracy: 0.9596\n",
      "Epoch 94/100\n",
      "131/131 [==============================] - 6s 48ms/step - loss: 0.0639 - accuracy: 0.9713\n",
      "Epoch 95/100\n",
      "131/131 [==============================] - 6s 49ms/step - loss: 0.1348 - accuracy: 0.9489\n",
      "Epoch 96/100\n",
      "131/131 [==============================] - 7s 53ms/step - loss: 0.0690 - accuracy: 0.9717\n",
      "Epoch 97/100\n",
      "131/131 [==============================] - 7s 51ms/step - loss: 0.0489 - accuracy: 0.9757\n",
      "Epoch 98/100\n",
      "131/131 [==============================] - 14s 104ms/step - loss: 0.0619 - accuracy: 0.9734\n",
      "Epoch 99/100\n",
      "131/131 [==============================] - 7s 50ms/step - loss: 0.0590 - accuracy: 0.9720\n",
      "Epoch 100/100\n",
      "131/131 [==============================] - 7s 51ms/step - loss: 0.0753 - accuracy: 0.9690\n"
     ]
    },
    {
     "data": {
      "text/plain": [
       "<keras.src.callbacks.History at 0x25adfed5c90>"
      ]
     },
     "execution_count": 42,
     "metadata": {},
     "output_type": "execute_result"
    }
   ],
   "source": [
    "LSTM_model.fit(x_train,y_train,epochs=100,batch_size=40)\n"
   ]
  },
  {
   "cell_type": "code",
   "execution_count": 43,
   "id": "1acef7a9",
   "metadata": {},
   "outputs": [],
   "source": [
    "from sklearn.feature_extraction.text import CountVectorizer\n",
    "import pandas as pd\n",
    "import numpy as np\n",
    "from sklearn.model_selection import train_test_split\n",
    "from sklearn.preprocessing import LabelEncoder\n",
    "from sklearn.metrics import accuracy_score\n",
    "import tensorflow as tf\n",
    "from tensorflow.keras.preprocessing.text import Tokenizer\n",
    "from tensorflow.keras.preprocessing.sequence import pad_sequences\n",
    "from tensorflow.keras.models import Sequential\n",
    "from tensorflow.keras.layers import Embedding, LSTM, Dense, Dropout"
   ]
  },
  {
   "cell_type": "code",
   "execution_count": 46,
   "id": "48f3e28d",
   "metadata": {},
   "outputs": [
    {
     "name": "stdout",
     "output_type": "stream",
     "text": [
      "1/1 [==============================] - 0s 271ms/step\n",
      "Predicted gender for samisksha: Female\n"
     ]
    }
   ],
   "source": [
    "def predict_gender(name):\n",
    "    name_samplevector = cv.transform([name]).toarray()\n",
    "    prediction = LSTM_model.predict(name_samplevector)\n",
    "    \n",
    "    if prediction >= 0.5:\n",
    "        return 'Male'\n",
    "    else:\n",
    "        return 'Female'\n",
    "\n",
    "name_to_predict= 'samisksha'\n",
    "predicted_gender = predict_gender(name_to_predict)\n",
    "print(f\"Predicted gender for {name_to_predict}: {predicted_gender}\")"
   ]
  },
  {
   "cell_type": "markdown",
   "id": "08f604e0",
   "metadata": {},
   "source": [
    "## CNN"
   ]
  },
  {
   "cell_type": "code",
   "execution_count": 47,
   "id": "2da6b750",
   "metadata": {},
   "outputs": [],
   "source": [
    "import pandas as pd\n",
    "from sklearn.model_selection import train_test_split\n",
    "from sklearn.preprocessing import LabelEncoder\n",
    "from sklearn.metrics import accuracy_score\n",
    "import tensorflow as tf\n",
    "from tensorflow.keras.preprocessing.text import Tokenizer\n",
    "from tensorflow.keras.preprocessing.sequence import pad_sequences\n",
    "from tensorflow.keras.models import Sequential\n",
    "from tensorflow.keras.layers import Embedding, Conv1D, GlobalMaxPooling1D, Dense, Dropout, Flatten"
   ]
  },
  {
   "cell_type": "code",
   "execution_count": 48,
   "id": "48176fae",
   "metadata": {},
   "outputs": [
    {
     "name": "stdout",
     "output_type": "stream",
     "text": [
      "Model: \"sequential_1\"\n",
      "_________________________________________________________________\n",
      " Layer (type)                Output Shape              Param #   \n",
      "=================================================================\n",
      " embedding_1 (Embedding)     (None, 16, 50)            1450      \n",
      "                                                                 \n",
      " conv1d (Conv1D)             (None, 12, 128)           32128     \n",
      "                                                                 \n",
      " global_max_pooling1d (Glob  (None, 128)               0         \n",
      " alMaxPooling1D)                                                 \n",
      "                                                                 \n",
      " dense_2 (Dense)             (None, 64)                8256      \n",
      "                                                                 \n",
      " dropout_3 (Dropout)         (None, 64)                0         \n",
      "                                                                 \n",
      " dense_3 (Dense)             (None, 1)                 65        \n",
      "                                                                 \n",
      "=================================================================\n",
      "Total params: 41899 (163.67 KB)\n",
      "Trainable params: 41899 (163.67 KB)\n",
      "Non-trainable params: 0 (0.00 Byte)\n",
      "_________________________________________________________________\n",
      "Epoch 1/100\n",
      "30/30 [==============================] - 3s 27ms/step - loss: 0.6895 - accuracy: 0.5294 - val_loss: 0.6735 - val_accuracy: 0.6346\n",
      "Epoch 2/100\n",
      "30/30 [==============================] - 1s 17ms/step - loss: 0.6555 - accuracy: 0.6513 - val_loss: 0.6009 - val_accuracy: 0.7788\n",
      "Epoch 3/100\n",
      "30/30 [==============================] - 0s 10ms/step - loss: 0.5309 - accuracy: 0.7872 - val_loss: 0.4600 - val_accuracy: 0.7788\n",
      "Epoch 4/100\n",
      "30/30 [==============================] - 0s 9ms/step - loss: 0.4006 - accuracy: 0.8342 - val_loss: 0.4014 - val_accuracy: 0.8173\n",
      "Epoch 5/100\n",
      "30/30 [==============================] - 0s 11ms/step - loss: 0.3794 - accuracy: 0.8364 - val_loss: 0.3719 - val_accuracy: 0.8365\n",
      "Epoch 6/100\n",
      "30/30 [==============================] - 0s 9ms/step - loss: 0.3169 - accuracy: 0.8588 - val_loss: 0.3437 - val_accuracy: 0.8750\n",
      "Epoch 7/100\n",
      "30/30 [==============================] - 0s 11ms/step - loss: 0.2851 - accuracy: 0.8920 - val_loss: 0.3167 - val_accuracy: 0.8750\n",
      "Epoch 8/100\n",
      "30/30 [==============================] - 1s 17ms/step - loss: 0.2450 - accuracy: 0.9134 - val_loss: 0.3177 - val_accuracy: 0.8846\n",
      "Epoch 9/100\n",
      "30/30 [==============================] - 0s 16ms/step - loss: 0.2299 - accuracy: 0.9219 - val_loss: 0.3350 - val_accuracy: 0.8846\n",
      "Epoch 10/100\n",
      "30/30 [==============================] - 1s 17ms/step - loss: 0.2094 - accuracy: 0.9230 - val_loss: 0.3656 - val_accuracy: 0.8269\n",
      "Epoch 11/100\n",
      "30/30 [==============================] - 0s 11ms/step - loss: 0.1852 - accuracy: 0.9422 - val_loss: 0.3315 - val_accuracy: 0.8654\n",
      "Epoch 12/100\n",
      "30/30 [==============================] - 0s 9ms/step - loss: 0.1621 - accuracy: 0.9519 - val_loss: 0.3530 - val_accuracy: 0.8750\n",
      "Epoch 13/100\n",
      "30/30 [==============================] - 0s 9ms/step - loss: 0.1386 - accuracy: 0.9519 - val_loss: 0.3371 - val_accuracy: 0.8942\n",
      "Epoch 14/100\n",
      "30/30 [==============================] - 0s 9ms/step - loss: 0.1187 - accuracy: 0.9701 - val_loss: 0.3682 - val_accuracy: 0.8750\n",
      "Epoch 15/100\n",
      "30/30 [==============================] - 0s 10ms/step - loss: 0.1064 - accuracy: 0.9733 - val_loss: 0.3669 - val_accuracy: 0.8750\n",
      "Epoch 16/100\n",
      "30/30 [==============================] - 0s 9ms/step - loss: 0.0888 - accuracy: 0.9829 - val_loss: 0.3774 - val_accuracy: 0.8558\n",
      "Epoch 17/100\n",
      "30/30 [==============================] - 0s 10ms/step - loss: 0.0734 - accuracy: 0.9840 - val_loss: 0.3974 - val_accuracy: 0.8654\n",
      "Epoch 18/100\n",
      "30/30 [==============================] - 1s 17ms/step - loss: 0.0677 - accuracy: 0.9807 - val_loss: 0.4109 - val_accuracy: 0.8654\n",
      "Epoch 19/100\n",
      "30/30 [==============================] - 0s 9ms/step - loss: 0.0601 - accuracy: 0.9882 - val_loss: 0.3798 - val_accuracy: 0.8750\n",
      "Epoch 20/100\n",
      "30/30 [==============================] - 1s 17ms/step - loss: 0.0446 - accuracy: 0.9904 - val_loss: 0.4143 - val_accuracy: 0.8654\n",
      "Epoch 21/100\n",
      "30/30 [==============================] - 0s 10ms/step - loss: 0.0452 - accuracy: 0.9872 - val_loss: 0.4086 - val_accuracy: 0.8558\n",
      "Epoch 22/100\n",
      "30/30 [==============================] - 0s 9ms/step - loss: 0.0358 - accuracy: 0.9936 - val_loss: 0.4178 - val_accuracy: 0.8846\n",
      "Epoch 23/100\n",
      "30/30 [==============================] - 1s 17ms/step - loss: 0.0346 - accuracy: 0.9936 - val_loss: 0.4659 - val_accuracy: 0.8654\n",
      "Epoch 24/100\n",
      "30/30 [==============================] - 0s 11ms/step - loss: 0.0305 - accuracy: 0.9947 - val_loss: 0.4458 - val_accuracy: 0.8654\n",
      "Epoch 25/100\n",
      "30/30 [==============================] - 0s 8ms/step - loss: 0.0233 - accuracy: 0.9968 - val_loss: 0.4588 - val_accuracy: 0.8558\n",
      "Epoch 26/100\n",
      "30/30 [==============================] - 1s 17ms/step - loss: 0.0287 - accuracy: 0.9947 - val_loss: 0.4318 - val_accuracy: 0.8654\n",
      "Epoch 27/100\n",
      "30/30 [==============================] - 0s 14ms/step - loss: 0.0236 - accuracy: 0.9947 - val_loss: 0.4996 - val_accuracy: 0.8654\n",
      "Epoch 28/100\n",
      "30/30 [==============================] - 0s 11ms/step - loss: 0.0257 - accuracy: 0.9947 - val_loss: 0.4737 - val_accuracy: 0.8654\n",
      "Epoch 29/100\n",
      "30/30 [==============================] - 1s 18ms/step - loss: 0.0252 - accuracy: 0.9968 - val_loss: 0.4937 - val_accuracy: 0.8750\n",
      "Epoch 30/100\n",
      "30/30 [==============================] - 0s 13ms/step - loss: 0.0179 - accuracy: 0.9968 - val_loss: 0.4899 - val_accuracy: 0.8654\n",
      "Epoch 31/100\n",
      "30/30 [==============================] - 1s 17ms/step - loss: 0.0178 - accuracy: 0.9968 - val_loss: 0.4647 - val_accuracy: 0.8750\n",
      "Epoch 32/100\n",
      "30/30 [==============================] - 0s 9ms/step - loss: 0.0191 - accuracy: 0.9957 - val_loss: 0.4626 - val_accuracy: 0.8750\n",
      "Epoch 33/100\n",
      "30/30 [==============================] - 0s 9ms/step - loss: 0.0442 - accuracy: 0.9882 - val_loss: 0.4530 - val_accuracy: 0.8846\n",
      "Epoch 34/100\n",
      "30/30 [==============================] - 0s 12ms/step - loss: 0.0285 - accuracy: 0.9968 - val_loss: 0.4792 - val_accuracy: 0.8750\n",
      "Epoch 35/100\n",
      "30/30 [==============================] - 0s 15ms/step - loss: 0.0209 - accuracy: 0.9968 - val_loss: 0.4997 - val_accuracy: 0.8654\n",
      "Epoch 36/100\n",
      "30/30 [==============================] - 0s 6ms/step - loss: 0.0151 - accuracy: 0.9968 - val_loss: 0.5161 - val_accuracy: 0.8750\n",
      "Epoch 37/100\n",
      "30/30 [==============================] - 0s 5ms/step - loss: 0.0093 - accuracy: 0.9968 - val_loss: 0.5303 - val_accuracy: 0.8750\n",
      "Epoch 38/100\n",
      "30/30 [==============================] - 0s 6ms/step - loss: 0.0157 - accuracy: 0.9968 - val_loss: 0.4947 - val_accuracy: 0.8654\n",
      "Epoch 39/100\n",
      "30/30 [==============================] - 0s 5ms/step - loss: 0.0128 - accuracy: 0.9979 - val_loss: 0.5147 - val_accuracy: 0.8750\n",
      "Epoch 40/100\n",
      "30/30 [==============================] - 0s 5ms/step - loss: 0.0097 - accuracy: 0.9989 - val_loss: 0.5291 - val_accuracy: 0.8654\n",
      "Epoch 41/100\n",
      "30/30 [==============================] - 0s 6ms/step - loss: 0.0108 - accuracy: 0.9979 - val_loss: 0.5222 - val_accuracy: 0.8750\n",
      "Epoch 42/100\n",
      "30/30 [==============================] - 0s 5ms/step - loss: 0.0088 - accuracy: 0.9979 - val_loss: 0.5444 - val_accuracy: 0.8750\n",
      "Epoch 43/100\n",
      "30/30 [==============================] - 0s 5ms/step - loss: 0.0113 - accuracy: 0.9979 - val_loss: 0.5677 - val_accuracy: 0.8558\n",
      "Epoch 44/100\n",
      "30/30 [==============================] - 0s 6ms/step - loss: 0.0126 - accuracy: 0.9979 - val_loss: 0.5607 - val_accuracy: 0.8654\n",
      "Epoch 45/100\n",
      "30/30 [==============================] - 0s 4ms/step - loss: 0.0112 - accuracy: 0.9968 - val_loss: 0.5127 - val_accuracy: 0.8750\n",
      "Epoch 46/100\n",
      "30/30 [==============================] - 0s 5ms/step - loss: 0.0096 - accuracy: 0.9968 - val_loss: 0.5211 - val_accuracy: 0.8750\n",
      "Epoch 47/100\n",
      "30/30 [==============================] - 0s 5ms/step - loss: 0.0096 - accuracy: 0.9979 - val_loss: 0.5822 - val_accuracy: 0.8558\n",
      "Epoch 48/100\n",
      "30/30 [==============================] - 0s 5ms/step - loss: 0.0105 - accuracy: 0.9968 - val_loss: 0.5641 - val_accuracy: 0.8846\n",
      "Epoch 49/100\n",
      "30/30 [==============================] - 0s 5ms/step - loss: 0.0104 - accuracy: 0.9979 - val_loss: 0.5567 - val_accuracy: 0.8654\n",
      "Epoch 50/100\n",
      "30/30 [==============================] - 0s 5ms/step - loss: 0.0065 - accuracy: 0.9979 - val_loss: 0.5357 - val_accuracy: 0.8750\n",
      "Epoch 51/100\n",
      "30/30 [==============================] - 0s 6ms/step - loss: 0.0068 - accuracy: 0.9968 - val_loss: 0.5742 - val_accuracy: 0.8462\n",
      "Epoch 52/100\n",
      "30/30 [==============================] - 0s 5ms/step - loss: 0.0068 - accuracy: 0.9968 - val_loss: 0.5579 - val_accuracy: 0.8654\n",
      "Epoch 53/100\n",
      "30/30 [==============================] - 0s 5ms/step - loss: 0.0055 - accuracy: 0.9979 - val_loss: 0.5642 - val_accuracy: 0.8846\n",
      "Epoch 54/100\n",
      "30/30 [==============================] - 0s 5ms/step - loss: 0.0114 - accuracy: 0.9979 - val_loss: 0.5402 - val_accuracy: 0.8654\n",
      "Epoch 55/100\n",
      "30/30 [==============================] - 0s 5ms/step - loss: 0.0079 - accuracy: 0.9979 - val_loss: 0.5697 - val_accuracy: 0.8846\n",
      "Epoch 56/100\n",
      "30/30 [==============================] - 0s 5ms/step - loss: 0.0058 - accuracy: 0.9979 - val_loss: 0.5898 - val_accuracy: 0.8654\n",
      "Epoch 57/100\n",
      "30/30 [==============================] - 0s 5ms/step - loss: 0.0050 - accuracy: 0.9979 - val_loss: 0.5875 - val_accuracy: 0.8750\n",
      "Epoch 58/100\n",
      "30/30 [==============================] - 0s 5ms/step - loss: 0.0088 - accuracy: 0.9968 - val_loss: 0.5731 - val_accuracy: 0.8846\n",
      "Epoch 59/100\n",
      "30/30 [==============================] - 0s 6ms/step - loss: 0.0061 - accuracy: 0.9979 - val_loss: 0.5797 - val_accuracy: 0.8654\n",
      "Epoch 60/100\n",
      "30/30 [==============================] - 0s 4ms/step - loss: 0.0099 - accuracy: 0.9968 - val_loss: 0.5877 - val_accuracy: 0.8846\n",
      "Epoch 61/100\n",
      "30/30 [==============================] - 0s 5ms/step - loss: 0.0054 - accuracy: 0.9979 - val_loss: 0.6375 - val_accuracy: 0.8558\n",
      "Epoch 62/100\n",
      "30/30 [==============================] - 0s 5ms/step - loss: 0.0052 - accuracy: 0.9968 - val_loss: 0.5729 - val_accuracy: 0.8846\n",
      "Epoch 63/100\n",
      "30/30 [==============================] - 0s 6ms/step - loss: 0.0046 - accuracy: 0.9989 - val_loss: 0.5675 - val_accuracy: 0.8750\n",
      "Epoch 64/100\n",
      "30/30 [==============================] - 0s 5ms/step - loss: 0.0059 - accuracy: 0.9968 - val_loss: 0.6137 - val_accuracy: 0.8750\n",
      "Epoch 65/100\n",
      "30/30 [==============================] - 0s 6ms/step - loss: 0.0055 - accuracy: 0.9979 - val_loss: 0.5999 - val_accuracy: 0.8654\n",
      "Epoch 66/100\n",
      "30/30 [==============================] - 0s 5ms/step - loss: 0.0035 - accuracy: 0.9989 - val_loss: 0.6295 - val_accuracy: 0.8846\n",
      "Epoch 67/100\n",
      "30/30 [==============================] - 0s 5ms/step - loss: 0.0052 - accuracy: 0.9979 - val_loss: 0.6047 - val_accuracy: 0.8750\n",
      "Epoch 68/100\n",
      "30/30 [==============================] - 0s 5ms/step - loss: 0.0045 - accuracy: 0.9979 - val_loss: 0.6269 - val_accuracy: 0.8750\n",
      "Epoch 69/100\n",
      "30/30 [==============================] - 0s 5ms/step - loss: 0.0072 - accuracy: 0.9979 - val_loss: 0.6127 - val_accuracy: 0.8750\n",
      "Epoch 70/100\n",
      "30/30 [==============================] - 0s 5ms/step - loss: 0.0056 - accuracy: 0.9979 - val_loss: 0.6368 - val_accuracy: 0.8750\n",
      "Epoch 71/100\n",
      "30/30 [==============================] - 0s 5ms/step - loss: 0.0047 - accuracy: 0.9989 - val_loss: 0.6452 - val_accuracy: 0.8750\n",
      "Epoch 72/100\n",
      "30/30 [==============================] - 0s 4ms/step - loss: 0.0048 - accuracy: 0.9979 - val_loss: 0.6384 - val_accuracy: 0.8654\n",
      "Epoch 73/100\n",
      "30/30 [==============================] - 0s 5ms/step - loss: 0.0047 - accuracy: 0.9979 - val_loss: 0.6333 - val_accuracy: 0.8750\n",
      "Epoch 74/100\n",
      "30/30 [==============================] - 0s 4ms/step - loss: 0.0064 - accuracy: 0.9979 - val_loss: 0.6196 - val_accuracy: 0.8654\n",
      "Epoch 75/100\n",
      "30/30 [==============================] - 0s 5ms/step - loss: 0.0045 - accuracy: 0.9979 - val_loss: 0.5961 - val_accuracy: 0.8846\n",
      "Epoch 76/100\n",
      "30/30 [==============================] - 0s 5ms/step - loss: 0.0040 - accuracy: 0.9989 - val_loss: 0.6235 - val_accuracy: 0.8750\n",
      "Epoch 77/100\n",
      "30/30 [==============================] - 0s 5ms/step - loss: 0.0043 - accuracy: 0.9979 - val_loss: 0.6452 - val_accuracy: 0.8846\n",
      "Epoch 78/100\n",
      "30/30 [==============================] - 0s 5ms/step - loss: 0.0036 - accuracy: 0.9979 - val_loss: 0.6585 - val_accuracy: 0.8750\n",
      "Epoch 79/100\n",
      "30/30 [==============================] - 0s 4ms/step - loss: 0.0033 - accuracy: 0.9989 - val_loss: 0.6670 - val_accuracy: 0.8846\n",
      "Epoch 80/100\n",
      "30/30 [==============================] - 0s 5ms/step - loss: 0.0048 - accuracy: 0.9968 - val_loss: 0.6695 - val_accuracy: 0.8846\n",
      "Epoch 81/100\n",
      "30/30 [==============================] - 0s 5ms/step - loss: 0.0027 - accuracy: 0.9979 - val_loss: 0.6692 - val_accuracy: 0.8750\n",
      "Epoch 82/100\n",
      "30/30 [==============================] - 0s 5ms/step - loss: 0.0061 - accuracy: 0.9979 - val_loss: 0.7593 - val_accuracy: 0.8558\n",
      "Epoch 83/100\n",
      "30/30 [==============================] - 0s 6ms/step - loss: 0.0054 - accuracy: 0.9989 - val_loss: 0.6539 - val_accuracy: 0.8750\n",
      "Epoch 84/100\n",
      "30/30 [==============================] - 0s 6ms/step - loss: 0.0370 - accuracy: 0.9861 - val_loss: 0.8105 - val_accuracy: 0.8365\n",
      "Epoch 85/100\n",
      "30/30 [==============================] - 0s 5ms/step - loss: 0.0970 - accuracy: 0.9636 - val_loss: 0.5945 - val_accuracy: 0.8846\n",
      "Epoch 86/100\n",
      "30/30 [==============================] - 0s 5ms/step - loss: 0.0334 - accuracy: 0.9840 - val_loss: 0.5784 - val_accuracy: 0.8846\n",
      "Epoch 87/100\n",
      "30/30 [==============================] - 0s 5ms/step - loss: 0.0596 - accuracy: 0.9743 - val_loss: 0.6144 - val_accuracy: 0.8654\n",
      "Epoch 88/100\n",
      "30/30 [==============================] - 0s 5ms/step - loss: 0.0317 - accuracy: 0.9914 - val_loss: 0.7194 - val_accuracy: 0.8558\n",
      "Epoch 89/100\n",
      "30/30 [==============================] - 0s 5ms/step - loss: 0.0202 - accuracy: 0.9936 - val_loss: 0.7655 - val_accuracy: 0.8462\n",
      "Epoch 90/100\n",
      "30/30 [==============================] - 0s 5ms/step - loss: 0.0138 - accuracy: 0.9957 - val_loss: 0.6579 - val_accuracy: 0.8654\n",
      "Epoch 91/100\n",
      "30/30 [==============================] - 0s 5ms/step - loss: 0.0061 - accuracy: 0.9979 - val_loss: 0.7018 - val_accuracy: 0.8558\n",
      "Epoch 92/100\n",
      "30/30 [==============================] - 0s 5ms/step - loss: 0.0039 - accuracy: 0.9979 - val_loss: 0.7295 - val_accuracy: 0.8558\n",
      "Epoch 93/100\n",
      "30/30 [==============================] - 0s 5ms/step - loss: 0.0063 - accuracy: 0.9968 - val_loss: 0.7349 - val_accuracy: 0.8558\n",
      "Epoch 94/100\n",
      "30/30 [==============================] - 0s 5ms/step - loss: 0.0048 - accuracy: 0.9968 - val_loss: 0.7521 - val_accuracy: 0.8558\n",
      "Epoch 95/100\n",
      "30/30 [==============================] - 0s 6ms/step - loss: 0.0035 - accuracy: 0.9979 - val_loss: 0.7643 - val_accuracy: 0.8558\n",
      "Epoch 96/100\n",
      "30/30 [==============================] - 0s 5ms/step - loss: 0.0041 - accuracy: 0.9968 - val_loss: 0.7758 - val_accuracy: 0.8558\n",
      "Epoch 97/100\n",
      "30/30 [==============================] - 0s 6ms/step - loss: 0.0039 - accuracy: 0.9968 - val_loss: 0.7895 - val_accuracy: 0.8558\n",
      "Epoch 98/100\n",
      "30/30 [==============================] - 0s 6ms/step - loss: 0.0028 - accuracy: 1.0000 - val_loss: 0.8001 - val_accuracy: 0.8558\n",
      "Epoch 99/100\n",
      "30/30 [==============================] - 0s 5ms/step - loss: 0.0046 - accuracy: 0.9968 - val_loss: 0.8051 - val_accuracy: 0.8558\n",
      "Epoch 100/100\n",
      "30/30 [==============================] - 0s 5ms/step - loss: 0.0043 - accuracy: 0.9979 - val_loss: 0.8079 - val_accuracy: 0.8558\n",
      "9/9 [==============================] - 0s 2ms/step - loss: 1.4413 - accuracy: 0.8192\n",
      "Test accuracy: 0.8192\n"
     ]
    }
   ],
   "source": [
    "# Label encoding\n",
    "label_encoder = LabelEncoder()\n",
    "dataset['Target'] = label_encoder.fit_transform(dataset['Target'])\n",
    "\n",
    "# Tokenization and padding\n",
    "tokenizer = Tokenizer(char_level=True)\n",
    "tokenizer.fit_on_texts(dataset['Name'])\n",
    "sequences = tokenizer.texts_to_sequences(dataset['Name'])\n",
    "padded_sequences = pad_sequences(sequences)\n",
    "\n",
    "# Train-test split\n",
    "X_train, X_test, y_train, y_test = train_test_split(padded_sequences, dataset['Target'], test_size=0.2, random_state=42)\n",
    "\n",
    "# Build the CNN model\n",
    "vocab_size = len(tokenizer.word_index) + 1\n",
    "embedding_dim = 50\n",
    "input_length = padded_sequences.shape[1]\n",
    "\n",
    "model = Sequential([\n",
    "    Embedding(input_dim=vocab_size, output_dim=embedding_dim, input_length=input_length),\n",
    "    Conv1D(filters=128, kernel_size=5, activation='relu'),\n",
    "    GlobalMaxPooling1D(),\n",
    "    Dense(64, activation='relu'),\n",
    "    Dropout(0.3),\n",
    "    Dense(1, activation='sigmoid')\n",
    "])\n",
    "\n",
    "model.compile(loss='binary_crossentropy', optimizer='adam', metrics=['accuracy'])\n",
    "model.summary()\n",
    "\n",
    "# Train the model\n",
    "history = model.fit(X_train, y_train, epochs=100, batch_size=32, validation_split=0.1)\n",
    "\n",
    "# Evaluate the model\n",
    "loss, accuracy = model.evaluate(X_test, y_test)\n",
    "print(f\"Test accuracy: {accuracy:.4f}\")"
   ]
  },
  {
   "cell_type": "code",
   "execution_count": 49,
   "id": "09294d77",
   "metadata": {},
   "outputs": [
    {
     "name": "stdout",
     "output_type": "stream",
     "text": [
      "1/1 [==============================] - 0s 64ms/step\n",
      "Predicted gender for rakesh: Male\n"
     ]
    }
   ],
   "source": [
    "def predict_gender(name):\n",
    "    name_sequence = tokenizer.texts_to_sequences([name])\n",
    "    padded_sequence = pad_sequences(name_sequence, maxlen=input_length)\n",
    "    prediction = model.predict(padded_sequence)[0][0]\n",
    "    \n",
    "    if prediction >= 0.5:\n",
    "        return 'Male'\n",
    "    else:\n",
    "        return 'Female'\n",
    "\n",
    "# Example usage\n",
    "name_to_predict = \"rakesh\"\n",
    "predicted_gender = predict_gender(name_to_predict)\n",
    "print(f\"Predicted gender for {name_to_predict}: {predicted_gender}\")"
   ]
  },
  {
   "cell_type": "code",
   "execution_count": null,
   "id": "798f92b5",
   "metadata": {},
   "outputs": [],
   "source": []
  },
  {
   "cell_type": "code",
   "execution_count": null,
   "id": "0c9c9f0e",
   "metadata": {},
   "outputs": [],
   "source": []
  },
  {
   "cell_type": "code",
   "execution_count": null,
   "id": "a27ee6a4",
   "metadata": {},
   "outputs": [],
   "source": []
  },
  {
   "cell_type": "code",
   "execution_count": null,
   "id": "9b0546df",
   "metadata": {},
   "outputs": [],
   "source": []
  },
  {
   "cell_type": "code",
   "execution_count": null,
   "id": "9607879c",
   "metadata": {},
   "outputs": [],
   "source": []
  },
  {
   "cell_type": "code",
   "execution_count": null,
   "id": "e8a7aa98",
   "metadata": {},
   "outputs": [],
   "source": []
  },
  {
   "cell_type": "code",
   "execution_count": null,
   "id": "ca2cdb00",
   "metadata": {},
   "outputs": [],
   "source": []
  },
  {
   "cell_type": "code",
   "execution_count": null,
   "id": "c8b25845",
   "metadata": {},
   "outputs": [],
   "source": []
  },
  {
   "cell_type": "code",
   "execution_count": null,
   "id": "ef200245",
   "metadata": {},
   "outputs": [],
   "source": []
  },
  {
   "cell_type": "code",
   "execution_count": null,
   "id": "3adddbc3",
   "metadata": {},
   "outputs": [],
   "source": []
  },
  {
   "cell_type": "code",
   "execution_count": null,
   "id": "33f503fe",
   "metadata": {},
   "outputs": [],
   "source": []
  },
  {
   "cell_type": "code",
   "execution_count": null,
   "id": "b0badb1a",
   "metadata": {},
   "outputs": [],
   "source": []
  },
  {
   "cell_type": "code",
   "execution_count": null,
   "id": "a7a6c54f",
   "metadata": {},
   "outputs": [],
   "source": []
  },
  {
   "cell_type": "code",
   "execution_count": null,
   "id": "49513fb5",
   "metadata": {},
   "outputs": [],
   "source": []
  },
  {
   "cell_type": "code",
   "execution_count": null,
   "id": "d824442d",
   "metadata": {},
   "outputs": [],
   "source": []
  },
  {
   "cell_type": "code",
   "execution_count": null,
   "id": "d2aa2d20",
   "metadata": {},
   "outputs": [],
   "source": []
  },
  {
   "cell_type": "code",
   "execution_count": null,
   "id": "38fb5b2a",
   "metadata": {},
   "outputs": [],
   "source": []
  },
  {
   "cell_type": "code",
   "execution_count": null,
   "id": "3de897a2",
   "metadata": {},
   "outputs": [],
   "source": []
  },
  {
   "cell_type": "code",
   "execution_count": null,
   "id": "ef1f13d3",
   "metadata": {},
   "outputs": [],
   "source": []
  },
  {
   "cell_type": "code",
   "execution_count": null,
   "id": "e2a8439e",
   "metadata": {},
   "outputs": [],
   "source": []
  },
  {
   "cell_type": "code",
   "execution_count": null,
   "id": "6457ee12",
   "metadata": {},
   "outputs": [],
   "source": []
  },
  {
   "cell_type": "code",
   "execution_count": null,
   "id": "5641dc4c",
   "metadata": {},
   "outputs": [],
   "source": []
  },
  {
   "cell_type": "code",
   "execution_count": null,
   "id": "fbed43d4",
   "metadata": {},
   "outputs": [],
   "source": []
  },
  {
   "cell_type": "code",
   "execution_count": null,
   "id": "7a6e1049",
   "metadata": {},
   "outputs": [],
   "source": []
  },
  {
   "cell_type": "code",
   "execution_count": null,
   "id": "94ffec71",
   "metadata": {},
   "outputs": [],
   "source": []
  },
  {
   "cell_type": "code",
   "execution_count": null,
   "id": "c13ee3e9",
   "metadata": {},
   "outputs": [],
   "source": []
  },
  {
   "cell_type": "code",
   "execution_count": null,
   "id": "5cd868be",
   "metadata": {},
   "outputs": [],
   "source": []
  },
  {
   "cell_type": "code",
   "execution_count": null,
   "id": "c4203a8f",
   "metadata": {},
   "outputs": [],
   "source": []
  },
  {
   "cell_type": "code",
   "execution_count": null,
   "id": "4f16a3cc",
   "metadata": {},
   "outputs": [],
   "source": []
  },
  {
   "cell_type": "code",
   "execution_count": null,
   "id": "5698aca7",
   "metadata": {},
   "outputs": [],
   "source": []
  },
  {
   "cell_type": "code",
   "execution_count": null,
   "id": "e7c9b3f8",
   "metadata": {},
   "outputs": [],
   "source": []
  },
  {
   "cell_type": "code",
   "execution_count": null,
   "id": "6b9c4069",
   "metadata": {},
   "outputs": [],
   "source": []
  },
  {
   "cell_type": "code",
   "execution_count": null,
   "id": "4e71057b",
   "metadata": {},
   "outputs": [],
   "source": []
  },
  {
   "cell_type": "code",
   "execution_count": null,
   "id": "5a88de0d",
   "metadata": {},
   "outputs": [],
   "source": []
  },
  {
   "cell_type": "code",
   "execution_count": null,
   "id": "5ceeae60",
   "metadata": {},
   "outputs": [],
   "source": []
  },
  {
   "cell_type": "code",
   "execution_count": null,
   "id": "c541f745",
   "metadata": {},
   "outputs": [],
   "source": []
  },
  {
   "cell_type": "code",
   "execution_count": null,
   "id": "eea55747",
   "metadata": {},
   "outputs": [],
   "source": []
  },
  {
   "cell_type": "code",
   "execution_count": null,
   "id": "ca1326d4",
   "metadata": {},
   "outputs": [],
   "source": []
  },
  {
   "cell_type": "code",
   "execution_count": null,
   "id": "8802e287",
   "metadata": {},
   "outputs": [],
   "source": []
  },
  {
   "cell_type": "code",
   "execution_count": null,
   "id": "06f8a142",
   "metadata": {},
   "outputs": [],
   "source": []
  },
  {
   "cell_type": "code",
   "execution_count": null,
   "id": "330b8e5c",
   "metadata": {},
   "outputs": [],
   "source": []
  },
  {
   "cell_type": "code",
   "execution_count": null,
   "id": "80b2692e",
   "metadata": {},
   "outputs": [],
   "source": []
  },
  {
   "cell_type": "code",
   "execution_count": null,
   "id": "f0c20630",
   "metadata": {},
   "outputs": [],
   "source": []
  },
  {
   "cell_type": "code",
   "execution_count": null,
   "id": "ddfbd0d5",
   "metadata": {},
   "outputs": [],
   "source": []
  },
  {
   "cell_type": "code",
   "execution_count": null,
   "id": "cba39fb9",
   "metadata": {},
   "outputs": [],
   "source": []
  },
  {
   "cell_type": "code",
   "execution_count": null,
   "id": "695b4511",
   "metadata": {},
   "outputs": [],
   "source": []
  },
  {
   "cell_type": "code",
   "execution_count": null,
   "id": "50ea4c0b",
   "metadata": {},
   "outputs": [],
   "source": []
  },
  {
   "cell_type": "code",
   "execution_count": null,
   "id": "604ebc89",
   "metadata": {},
   "outputs": [],
   "source": []
  },
  {
   "cell_type": "code",
   "execution_count": null,
   "id": "179d7360",
   "metadata": {},
   "outputs": [],
   "source": []
  },
  {
   "cell_type": "code",
   "execution_count": null,
   "id": "d61a3ea8",
   "metadata": {},
   "outputs": [],
   "source": []
  },
  {
   "cell_type": "code",
   "execution_count": null,
   "id": "4bfd0b23",
   "metadata": {},
   "outputs": [],
   "source": []
  },
  {
   "cell_type": "code",
   "execution_count": null,
   "id": "827d807a",
   "metadata": {},
   "outputs": [],
   "source": []
  },
  {
   "cell_type": "code",
   "execution_count": null,
   "id": "1c8c2804",
   "metadata": {},
   "outputs": [],
   "source": []
  },
  {
   "cell_type": "code",
   "execution_count": null,
   "id": "aed336c0",
   "metadata": {},
   "outputs": [],
   "source": []
  },
  {
   "cell_type": "code",
   "execution_count": null,
   "id": "e4b911f4",
   "metadata": {},
   "outputs": [],
   "source": []
  },
  {
   "cell_type": "code",
   "execution_count": null,
   "id": "a6aa1985",
   "metadata": {},
   "outputs": [],
   "source": []
  },
  {
   "cell_type": "code",
   "execution_count": null,
   "id": "83b5c5d5",
   "metadata": {},
   "outputs": [],
   "source": []
  },
  {
   "cell_type": "code",
   "execution_count": null,
   "id": "f6576706",
   "metadata": {},
   "outputs": [],
   "source": []
  },
  {
   "cell_type": "code",
   "execution_count": null,
   "id": "19c8a09e",
   "metadata": {},
   "outputs": [],
   "source": []
  },
  {
   "cell_type": "code",
   "execution_count": null,
   "id": "39f358c5",
   "metadata": {},
   "outputs": [],
   "source": []
  }
 ],
 "metadata": {
  "kernelspec": {
   "display_name": "Python 3",
   "language": "python",
   "name": "python3"
  },
  "language_info": {
   "codemirror_mode": {
    "name": "ipython",
    "version": 3
   },
   "file_extension": ".py",
   "mimetype": "text/x-python",
   "name": "python",
   "nbconvert_exporter": "python",
   "pygments_lexer": "ipython3",
   "version": "3.10.9"
  }
 },
 "nbformat": 4,
 "nbformat_minor": 5
}
